{
  "nbformat": 4,
  "nbformat_minor": 0,
  "metadata": {
    "colab": {
      "provenance": [],
      "collapsed_sections": [
        "sO6DY6FEnx2j",
        "OiWJ_i2Rn1mz",
        "8zcladzEn596",
        "xLCaovh2oBtz",
        "gmZgcV9eoGtr"
      ]
    },
    "kernelspec": {
      "name": "python3",
      "display_name": "Python 3"
    },
    "language_info": {
      "name": "python"
    }
  },
  "cells": [
    {
      "cell_type": "markdown",
      "source": [
        "# Filmes do Adam Sandler"
      ],
      "metadata": {
        "id": "FNsm9kGYi4ol"
      }
    },
    {
      "cell_type": "markdown",
      "source": [
        "Julia Ortiz       RM-550204\n",
        "Juliana Maita     RM-99224"
      ],
      "metadata": {
        "id": "99PbT0pUXSp9"
      }
    },
    {
      "cell_type": "code",
      "execution_count": null,
      "metadata": {
        "id": "mCmY4c0EiGyb"
      },
      "outputs": [],
      "source": [
        "import numpy as np\n",
        "import pandas as pd\n",
        "import seaborn as sns\n",
        "import matplotlib.pyplot as plt\n",
        "%matplotlib inline"
      ]
    },
    {
      "cell_type": "code",
      "source": [
        "nf = pd.read_csv('netflix_titles.csv')"
      ],
      "metadata": {
        "id": "o5HTsZcZioRC"
      },
      "execution_count": null,
      "outputs": []
    },
    {
      "cell_type": "code",
      "source": [
        "nf.head()"
      ],
      "metadata": {
        "id": "eDEGT9phlI2T"
      },
      "execution_count": null,
      "outputs": []
    },
    {
      "cell_type": "markdown",
      "source": [
        "##1- Quais filmes o Adam Sandler participou?"
      ],
      "metadata": {
        "id": "1Uf6m4pPlxBE"
      }
    },
    {
      "cell_type": "code",
      "source": [
        "nf_AdamS = nf[nf['cast'].str.contains('Adam Sandler', na=False)]\n",
        "\n",
        "#Comando para selecionar apenas a coluna 'title'\n",
        "nf_AdamS_titles = nf_AdamS[['title']]\n",
        "\n",
        "# Mostrar apenas a coluna title\n",
        "print(nf_AdamS_titles)"
      ],
      "metadata": {
        "id": "P14poas4klJD"
      },
      "execution_count": null,
      "outputs": []
    },
    {
      "cell_type": "markdown",
      "source": [
        "## 2- Qual é a distribuição dos gêneros dos filmes de Adam Sandler na Netflix?"
      ],
      "metadata": {
        "id": "ZduEc9cxnhbq"
      }
    },
    {
      "cell_type": "code",
      "source": [
        "# Selecionar os filmes do Adam Sandler\n",
        "sandler_movies = nf[nf['cast'].str.contains('Adam Sandler', na=False)]\n",
        "\n",
        "# Verificar o conteúdo da coluna listed_in\n",
        "print(sandler_movies['listed_in'].head())\n",
        "\n",
        "# Separar os tipos de filmes por categoria e usar .copy() para evitar o SettingWithCopyWarning\n",
        "sandler_movies['listed_in'] = sandler_movies['listed_in'].str.split(', ').copy()\n",
        "\n",
        "sandler_movies_exploded = sandler_movies.explode('listed_in')\n",
        "\n",
        "# Calcular a frequência de cada gênero de filme\n",
        "type_counts = sandler_movies_exploded['listed_in'].value_counts()\n",
        "\n",
        "# Visualizar os dados com um gráfico de barras usando (Seaborn)\n",
        "plt.figure(figsize=(10, 6))\n",
        "sns.barplot(x=type_counts.index, y=type_counts.values, palette='viridis')\n",
        "\n",
        "\n",
        "plt.xticks(rotation=90)\n",
        "\n",
        "plt.xlabel('Gênero do Filme', fontsize=12)\n",
        "plt.ylabel('Número de Filmes', fontsize=12)\n",
        "plt.title('Distribuição dos gêneros de filmes do Adam Sandler na Netflix', fontsize=16)\n",
        "\n",
        "plt.show()"
      ],
      "metadata": {
        "id": "u5GL3jGAndu6"
      },
      "execution_count": null,
      "outputs": []
    },
    {
      "cell_type": "markdown",
      "source": [
        "##3- Qual é a média de avaliação dos filmes de Adam Sandler ao longo dos anos?"
      ],
      "metadata": {
        "id": "MGtJOwmCnk6L"
      }
    },
    {
      "cell_type": "code",
      "source": [
        "# Filtrar os filmes onde Adam Sandler está no elenco\n",
        "sandler_movies = nf[nf['cast'].str.contains('Adam Sandler', na=False)].copy()\n",
        "\n",
        "# Converter 'release_year' para datetime para extrair o ano\n",
        "sandler_movies['release_year'] = pd.to_datetime(sandler_movies['release_year'], format='%Y', errors='coerce')\n",
        "sandler_movies['year'] = sandler_movies['release_year'].dt.year\n",
        "\n",
        "# Converter 'rating' para numérico para extrair números e forçar erros a NaN\n",
        "sandler_movies['rating'] = pd.to_numeric(sandler_movies['rating'].str.extract('(\\d+\\.?\\d*)')[0], errors='coerce')\n",
        "\n",
        "# Verificar se há valores NaN\n",
        "print(sandler_movies['rating'].isna().sum(), \"valores NaN encontrados em 'rating'.\")\n",
        "\n",
        "# Comando para calcular a média das avaliações por ano\n",
        "average_ratings_per_year = sandler_movies.groupby('year')['rating'].mean().dropna()\n",
        "\n",
        "# Dados com Matplotlib\n",
        "plt.figure(figsize=(12, 6))\n",
        "plt.plot(average_ratings_per_year.index, average_ratings_per_year.values, marker='o')\n",
        "plt.xlabel('Ano')\n",
        "plt.ylabel('Avaliação Média')\n",
        "plt.title('Avaliação Média dos filmes do Adam Sandler ao longo dos anos')\n",
        "plt.grid(True)\n",
        "plt.show()\n"
      ],
      "metadata": {
        "id": "-uEafUi4nklr"
      },
      "execution_count": null,
      "outputs": []
    },
    {
      "cell_type": "markdown",
      "source": [
        "## 4- Existe uma relação entre a duração dos filmes e sua avaliação?"
      ],
      "metadata": {
        "id": "VEBcqEiQnpJC"
      }
    },
    {
      "cell_type": "code",
      "source": [
        "from sklearn.linear_model import LinearRegression\n",
        "\n",
        "# Comando para converter a coluna 'duration' de string para float\n",
        "sandler_movies['duration'] = sandler_movies['duration'].astype(str)  # Converter tudo para string\n",
        "sandler_movies['duration'] = sandler_movies['duration'].str.replace(' min', '', regex=False)  # Remover ' min'\n",
        "sandler_movies['duration'] = sandler_movies['duration'].replace('nan', np.nan).astype(float)  # Tratar 'nan' e converter para float\n",
        "\n",
        "# Verificar se há valores NaN\n",
        "print(sandler_movies['duration'].isna().sum(), \"valores NaN encontrados em 'duration'.\")\n",
        "\n",
        "# Calcular o número de filmes por ano\n",
        "films_per_year = sandler_movies.groupby('year')['title'].count()\n",
        "\n",
        "# Calcular a média das avaliações por ano\n",
        "average_ratings_per_year = sandler_movies.groupby('year')['rating'].mean().dropna()\n",
        "\n",
        "# Verificar se existem dados suficientes para a regressão\n",
        "data = pd.DataFrame({\n",
        "    'films_per_year': films_per_year,\n",
        "    'average_rating': average_ratings_per_year\n",
        "}).dropna()\n",
        "\n",
        "X = data[['films_per_year']].values.reshape(-1, 1)\n",
        "y = data['average_rating'].values\n",
        "\n",
        "# Criar e treinar o modelo de regressão linear\n",
        "model = LinearRegression()\n",
        "model.fit(X, y)\n",
        "\n",
        "# Fazer previsões\n",
        "predictions = model.predict(X)\n",
        "\n",
        "# Resultados\n",
        "plt.figure(figsize=(10, 6))\n",
        "plt.scatter(data['films_per_year'], data['average_rating'], color='blue', label='Dados Reais')\n",
        "plt.plot(data['films_per_year'], predictions, color='red', linewidth=2, label='Linha de Regressão')\n",
        "plt.xlabel('Número de Filmes por Ano')\n",
        "plt.ylabel('Avaliação Média')\n",
        "plt.title('Correlação entre Quantidade de Filmes Lançados e Avaliação Média')\n",
        "plt.legend()\n",
        "plt.grid(True)\n",
        "plt.show()\n",
        "\n",
        "# Exibir coeficiente de regressão e intercepto\n",
        "print(f'Coeficiente de Regressão: {model.coef_[0]}')\n",
        "print(f'Intercepto: {model.intercept_}')\n"
      ],
      "metadata": {
        "id": "Jcv8PbDYnrZa"
      },
      "execution_count": null,
      "outputs": []
    },
    {
      "cell_type": "markdown",
      "source": [
        "##5- Quais são as palavras mais frequentes nos títulos dos filmes de Adam Sandler?"
      ],
      "metadata": {
        "id": "RQiGKHdSnuSL"
      }
    },
    {
      "cell_type": "code",
      "source": [
        "from collections import Counter\n",
        "import re\n",
        "\n",
        "# Juntar todos os títulos em uma string\n",
        "titles = ' '.join(sandler_movies['title'].tolist())\n",
        "\n",
        "# Remover caracteres especiais + dividir em palavras\n",
        "words = re.findall(r'\\b\\w+\\b', titles.lower())\n",
        "\n",
        "# Contar a frequência de cada palavra\n",
        "word_counts = Counter(words)\n",
        "\n",
        "# Comando para selecionar as 10 palavras mais comuns\n",
        "most_common_words = word_counts.most_common(10)\n",
        "\n",
        "# Resultados com Seaborn\n",
        "words_df = pd.DataFrame(most_common_words, columns=['Palavra', 'Contagem'])\n",
        "\n",
        "plt.figure(figsize=(12, 6))\n",
        "sns.barplot(x='Palavra', y='Contagem', data=words_df, palette='plasma')\n",
        "plt.xlabel('Palavra')\n",
        "plt.ylabel('Contagem')\n",
        "plt.title('Palavras mais frequentes nos Títulos dos Filmes do Adam Sandler')\n",
        "plt.xticks(rotation=45)\n",
        "plt.show()\n"
      ],
      "metadata": {
        "id": "WW-7LMFJnwPi"
      },
      "execution_count": null,
      "outputs": []
    },
    {
      "cell_type": "markdown",
      "source": [
        "## 6- Há uma diferença significativa nas avaliações entre comédias e outros gêneros?"
      ],
      "metadata": {
        "id": "sO6DY6FEnx2j"
      }
    },
    {
      "cell_type": "code",
      "source": [
        "# importando módulo de stats do scipy\n",
        "from scipy import stats\n",
        "\n",
        "# Selecionar os filmes do Adam Sandler\n",
        "sandler_movies = nf[nf['cast'].str.contains('Adam Sandler', na=False)]\n",
        "\n",
        "# Atualizar a identificação de comédias\n",
        "sandler_movies['is_comedy'] = sandler_movies['listed_in'].str.contains('Comedy', case=False, na=False) | \\\n",
        "                              sandler_movies['listed_in'].str.contains('Stand-Up Comedy', case=False, na=False)\n",
        "\n",
        "# Definir um mapeamento para as classificações\n",
        "rating_mapping = {\n",
        "    'G': 1,                # General Audience\n",
        "    'PG': 2,               # Parental Guidance\n",
        "    'PG-13': 3,            # Parents Strongly Cautioned\n",
        "    'R': 4,                # Restricted\n",
        "    'NC-17': 5,            # Adults Only\n",
        "    'TV-Y': 1,             # All Children\n",
        "    'TV-Y7': 2,            # Directed to Older Children\n",
        "    'TV-G': 1,             # General Audience\n",
        "    'TV-PG': 2,            # Parental Guidance\n",
        "    'TV-14': 3,            # Parents Strongly Cautioned\n",
        "    'TV-MA': 4             # Mature Audiences\n",
        "}\n",
        "\n",
        "# Aplicar o mapeamento\n",
        "sandler_movies['rating_numeric'] = sandler_movies['rating'].map(rating_mapping)\n",
        "\n",
        "# Separar as avaliações em comédias e outros gêneros\n",
        "comedy_ratings = sandler_movies[sandler_movies['is_comedy']]['rating_numeric'].dropna()\n",
        "other_ratings = sandler_movies[~sandler_movies['is_comedy']]['rating_numeric'].dropna()\n",
        "\n",
        "# Verificar se a conversão foi bem-sucedida\n",
        "print(sandler_movies[['title', 'listed_in', 'is_comedy', 'rating', 'rating_numeric']].head())\n",
        "# Teste t para comparar as médias das avaliações entre comédias e outros gêneros\n",
        "t_stat, p_value = stats.ttest_ind(comedy_ratings, other_ratings)\n",
        "\n",
        "# Resultados\n",
        "print(f'Estatística t: {t_stat}')\n",
        "print(f'Valor p: {p_value}')\n",
        "\n",
        "# Visualizar as distribuições\n",
        "plt.figure(figsize=(12, 6))\n",
        "sns.histplot(comedy_ratings, color='blue', label='Comédias', kde=True, bins=10)\n",
        "sns.histplot(other_ratings, color='red', label='Outros Gêneros', kde=True, bins=10)\n",
        "plt.xlabel('Avaliação Numérica')\n",
        "plt.ylabel('Frequência')\n",
        "plt.title('Distribuição das Avaliações dos Filmes de Adam Sandler: Comédias vs. Outros Gêneros')\n",
        "plt.legend()\n",
        "plt.show()\n"
      ],
      "metadata": {
        "id": "Kx5IjEbRnxeq"
      },
      "execution_count": null,
      "outputs": []
    },
    {
      "cell_type": "markdown",
      "source": [
        "## 7- Qual é a relação entre o número de gêneros e a avaliação dos filmes?"
      ],
      "metadata": {
        "id": "OiWJ_i2Rn1mz"
      }
    },
    {
      "cell_type": "code",
      "source": [
        "from sklearn.model_selection import train_test_split\n",
        "from sklearn.preprocessing import LabelEncoder\n",
        "from statsmodels.api import OLS, add_constant\n",
        "\n",
        "# Suponhamos que tenha um DataFrame 'nf'\n",
        "# Atualizar a identificação de comédias\n",
        "nf['num_genres'] = nf['listed_in'].str.split(',').apply(len)\n",
        "\n",
        "# Definir um mapeamento para as classificações\n",
        "rating_mapping = {\n",
        "    'G': 1,                # General Audience\n",
        "    'PG': 2,               # Parental Guidance\n",
        "    'PG-13': 3,            # Parents Strongly Cautioned\n",
        "    'R': 4,                # Restricted\n",
        "    'NC-17': 5,            # Adults Only\n",
        "    'TV-Y': 1,             # All Children\n",
        "    'TV-Y7': 2,            # Directed to Older Children\n",
        "    'TV-G': 1,             # General Audience\n",
        "    'TV-PG': 2,            # Parental Guidance\n",
        "    'TV-14': 3,            # Parents Strongly Cautioned\n",
        "    'TV-MA': 4             # Mature Audiences\n",
        "}\n",
        "\n",
        "# Aplicar o mapeamento\n",
        "nf['rating_numeric'] = nf['rating'].map(rating_mapping)\n",
        "\n",
        "# Remover linhas onde a classificação é NaN (não mapeada)\n",
        "nf = nf.dropna(subset=['rating_numeric'])\n",
        "\n",
        "# Verificar se a conversão foi bem-sucedida\n",
        "print(nf[['title', 'listed_in', 'num_genres', 'rating', 'rating_numeric']].head())\n",
        "\n",
        "# Selecionar variáveis de entrada (X) e saída (y)\n",
        "X = nf[['num_genres']]\n",
        "y = nf['rating_numeric']\n",
        "\n",
        "# Dividir em conjuntos de treino e teste\n",
        "X_train, X_test, y_train, y_test = train_test_split(X, y, test_size=0.3, random_state=42)\n",
        "\n",
        "# Criar e ajustar o modelo de regressão linear\n",
        "model = LinearRegression()\n",
        "model.fit(X_train, y_train)\n",
        "\n",
        "# Prever e visualizar os resultados\n",
        "predictions = model.predict(X_test)\n",
        "\n",
        "# Visualizar a relação com um gráfico de dispersão e a linha de regressão\n",
        "plt.figure(figsize=(10, 6))\n",
        "sns.scatterplot(x=X_test['num_genres'], y=y_test, color='blue', label='Valores Reais')\n",
        "sns.lineplot(x=X_test['num_genres'], y=predictions, color='red', label='Linha de Regressão')\n",
        "plt.xlabel('Número de Gêneros')\n",
        "plt.ylabel('Avaliação Numérica')\n",
        "plt.title('Relação entre Número de Gêneros e Avaliação dos Filmes')\n",
        "plt.legend()\n",
        "plt.show()\n",
        "\n",
        "# Avaliar o desempenho do modelo\n",
        "print('Coeficiente:', model.coef_[0])\n",
        "print('Intercepto:', model.intercept_)\n",
        "\n",
        "# Teste de hipótese para verificar se a inclinação do modelo é significativamente diferente de zero\n",
        "# Adicionar constante para o modelo\n",
        "X_with_const = add_constant(X)\n",
        "\n",
        "# Ajustar o modelo\n",
        "ols_model = OLS(y, X_with_const).fit()\n",
        "\n",
        "# Resumo do modelo\n",
        "print(ols_model.summary())\n"
      ],
      "metadata": {
        "id": "R-y0bcxhn1es"
      },
      "execution_count": null,
      "outputs": []
    },
    {
      "cell_type": "markdown",
      "source": [
        "## 8- Como as avaliações dos filmes de Adam Sandler se comparam com a média das avaliações na Netflix?"
      ],
      "metadata": {
        "id": "8zcladzEn596"
      }
    },
    {
      "cell_type": "code",
      "source": [
        "from scipy import stats\n",
        "\n",
        "# Definindo o mapeamento de classificações\n",
        "rating_mapping = {\n",
        "    'G': 1,                # General Audience\n",
        "    'PG': 2,               # Parental Guidance\n",
        "    'PG-13': 3,            # Parents Strongly Cautioned\n",
        "    'R': 4,                # Restricted\n",
        "    'NC-17': 5,            # Adults Only\n",
        "    'TV-Y': 1,             # All Children\n",
        "    'TV-Y7': 2,            # Directed to Older Children\n",
        "    'TV-G': 1,             # General Audience\n",
        "    'TV-PG': 2,            # Parental Guidance\n",
        "    'TV-14': 3,            # Parents Strongly Cautioned\n",
        "    'TV-MA': 4             # Mature Audiences\n",
        "}\n",
        "\n",
        "# Aplicar o mapeamento e tratar erros\n",
        "nf['rating_numeric'] = nf['rating'].map(rating_mapping)\n",
        "\n",
        "# Remover linhas onde a classificação é NaN (não mapeada)\n",
        "nf = nf.dropna(subset=['rating_numeric'])\n",
        "\n",
        "# Verificar se a conversão foi bem-sucedida\n",
        "print(nf[['title', 'rating', 'rating_numeric']].head())\n",
        "\n",
        "# Filtrar filmes de Adam Sandler\n",
        "sandler_movies = nf[nf['cast'].str.contains('Adam Sandler', na=False)]\n",
        "\n",
        "# Calcular a média das avaliações\n",
        "average_rating_all = nf['rating_numeric'].mean()\n",
        "average_rating_sandler = sandler_movies['rating_numeric'].mean()\n",
        "\n",
        "print(f\"Média das avaliações na Netflix: {average_rating_all:.2f}\")\n",
        "print(f\"Média das avaliações dos filmes de Adam Sandler: {average_rating_sandler:.2f}\")\n",
        "\n",
        "# Realizar o teste de hipótese para comparar as médias\n",
        "t_stat, p_value = stats.ttest_ind(\n",
        "    nf['rating_numeric'],\n",
        "    sandler_movies['rating_numeric'],\n",
        "    equal_var=False  # Assume variâncias diferentes\n",
        ")\n",
        "\n",
        "print(f\"Estatística t: {t_stat:.2f}\")\n",
        "print(f\"Valor p: {p_value:.4f}\")\n",
        "\n",
        "# Visualizar as distribuições\n",
        "plt.figure(figsize=(12, 6))\n",
        "\n",
        "# Distribuição das avaliações de todos os filmes\n",
        "plt.subplot(1, 2, 1)\n",
        "sns.histplot(nf['rating_numeric'], bins=range(1, 7), kde=True, color='blue')\n",
        "plt.title('Distribuição das Avaliações na Netflix')\n",
        "plt.xlabel('Avaliação Numérica')\n",
        "plt.ylabel('Frequência')\n",
        "\n",
        "# Distribuição das avaliações dos filmes de Adam Sandler\n",
        "plt.subplot(1, 2, 2)\n",
        "sns.histplot(sandler_movies['rating_numeric'], bins=range(1, 7), kde=True, color='red')\n",
        "plt.title('Distribuição das Avaliações dos Filmes de Adam Sandler')\n",
        "plt.xlabel('Avaliação Numérica')\n",
        "plt.ylabel('Frequência')\n",
        "\n",
        "plt.tight_layout()\n",
        "plt.show()\n"
      ],
      "metadata": {
        "id": "D16fxLNnn51b"
      },
      "execution_count": null,
      "outputs": []
    },
    {
      "cell_type": "markdown",
      "source": [
        "## 9 - Qual é a variação nas avaliações dos filmes de Adam Sandler ao longo dos anos?"
      ],
      "metadata": {
        "id": "xLCaovh2oBtz"
      }
    },
    {
      "cell_type": "code",
      "source": [
        "# Supondo que você já tenha o DataFrame 'sandler_movies' com as avaliações numéricas\n",
        "# Verifique se a coluna 'release_year' está presente e é do tipo correto\n",
        "print(sandler_movies[['title', 'release_year']].head())\n",
        "\n",
        "# Se 'release_year' não estiver no formato correto, converta\n",
        "# Para garantir que 'release_year' é numérico\n",
        "sandler_movies['release_year'] = pd.to_numeric(sandler_movies['release_year'], errors='coerce')\n",
        "\n",
        "# Verifique novamente\n",
        "print(sandler_movies[['title', 'release_year']].head())\n",
        "\n",
        "# Se necessário, extraia o ano da coluna 'release_year'\n",
        "sandler_movies['year'] = sandler_movies['release_year']\n",
        "\n",
        "# Verifique as colunas disponíveis\n",
        "print(sandler_movies.columns)\n",
        "\n",
        "# Calcular a variância das avaliações por ano\n",
        "rating_variance_per_year = sandler_movies.groupby('year')['rating_numeric'].var().dropna()\n",
        "\n",
        "# Verificar o resultado\n",
        "print(rating_variance_per_year)\n",
        "\n",
        "# Visualizar com Matplotlib\n",
        "plt.figure(figsize=(12, 6))\n",
        "sns.lineplot(x=rating_variance_per_year.index, y=rating_variance_per_year.values, marker='o')\n",
        "plt.title('Variação das Avaliações dos Filmes de Adam Sandler ao Longo dos Anos')\n",
        "plt.xlabel('Ano')\n",
        "plt.ylabel('Variação das Avaliações')\n",
        "plt.grid(True)\n",
        "plt.show()\n"
      ],
      "metadata": {
        "id": "OsyiM0_doBlr"
      },
      "execution_count": null,
      "outputs": []
    },
    {
      "cell_type": "markdown",
      "source": [
        "## 10 - Existe uma correlação entre a quantidade de filmes lançados por ano e as avaliações desses filmes?"
      ],
      "metadata": {
        "id": "gmZgcV9eoGtr"
      }
    },
    {
      "cell_type": "code",
      "source": [
        "# Carregar o DataFrame (certifique-se de que este seja o DataFrame correto)\n",
        "# nf = pd.read_csv('netflix_titles.csv')\n",
        "\n",
        "# Filtrar os filmes de Adam Sandler\n",
        "sandler_movies = nf[nf['cast'].str.contains('Adam Sandler', na=False)]\n",
        "\n",
        "# Exibir algumas linhas para verificação\n",
        "print(sandler_movies[['title', 'release_year', 'rating']].head())\n",
        "\n",
        "# Converter a classificação para numérico\n",
        "rating_mapping = {\n",
        "    'G': 1,                # General Audience\n",
        "    'PG': 2,               # Parental Guidance\n",
        "    'PG-13': 3,            # Parents Strongly Cautioned\n",
        "    'R': 4,                # Restricted\n",
        "    'NC-17': 5,            # Adults Only\n",
        "    'TV-Y': 1,             # All Children\n",
        "    'TV-Y7': 2,            # Directed to Older Children\n",
        "    'TV-G': 1,             # General Audience\n",
        "    'TV-PG': 2,            # Parental Guidance\n",
        "    'TV-14': 3,            # Parents Strongly Cautioned\n",
        "    'TV-MA': 4             # Mature Audiences\n",
        "}\n",
        "\n",
        "sandler_movies['rating_numeric'] = sandler_movies['rating'].map(rating_mapping)\n",
        "\n",
        "# Remover linhas onde a classificação é NaN (não mapeada)\n",
        "sandler_movies = sandler_movies.dropna(subset=['rating_numeric'])\n",
        "\n",
        "# Verificar se a coluna 'release_year' está presente e é numérica\n",
        "sandler_movies['release_year'] = pd.to_numeric(sandler_movies['release_year'], errors='coerce')\n",
        "\n",
        "# Verificar se a conversão foi bem-sucedida\n",
        "print(sandler_movies[['title', 'release_year', 'rating_numeric']].head())\n",
        "\n",
        "# Agrupar por ano e calcular a média das avaliações e o número de filmes\n",
        "annual_stats = sandler_movies.groupby('release_year').agg(\n",
        "    average_rating=('rating_numeric', 'mean'),\n",
        "    film_count=('title', 'count')\n",
        ").reset_index()\n",
        "\n",
        "# Verificar o resultado\n",
        "print(annual_stats)\n",
        "\n",
        "# Calcular a correlação entre o número de filmes e a média das avaliações\n",
        "correlation = annual_stats[['film_count', 'average_rating']].corr().iloc[0, 1]\n",
        "\n",
        "print(f\"Correlação entre a quantidade de filmes lançados e a média das avaliações: {correlation:.2f}\")\n",
        "\n",
        "# Visualizar com Seaborn\n",
        "plt.figure(figsize=(12, 6))\n",
        "\n",
        "# Scatter plot para mostrar a correlação\n",
        "sns.scatterplot(data=annual_stats, x='film_count', y='average_rating', marker='o')\n",
        "plt.title('Correlação entre a Quantidade de Filmes Lançados e a Média das Avaliações')\n",
        "plt.xlabel('Quantidade de Filmes Lançados por Ano')\n",
        "plt.ylabel('Média das Avaliações')\n",
        "plt.grid(True)\n",
        "plt.show()\n",
        "\n",
        "# Regressão Linear para visualização\n",
        "sns.lmplot(data=annual_stats, x='film_count', y='average_rating')\n",
        "plt.title('Regressão Linear: Quantidade de Filmes vs Média das Avaliações')\n",
        "plt.xlabel('Quantidade de Filmes Lançados por Ano')\n",
        "plt.ylabel('Média das Avaliações')\n",
        "plt.grid(True)\n",
        "plt.show()\n"
      ],
      "metadata": {
        "id": "zqGdYdQ8oGlz"
      },
      "execution_count": null,
      "outputs": []
    },
    {
      "cell_type": "markdown",
      "source": [
        "#Conclusão Final:\n",
        "\n",
        "##Análise das Avaliações dos filmes do Adam Sandler:\n",
        "###Nossa análise teve como objetivo examinar as avaliações dos filmes de Adam Sandler disponíveis na Netflix e compará-las com a média geral da plataforma. Exploramos diferentes aspectos, como a variação nas avaliações ao longo dos anos e a relação entre a quantidade de filmes lançados por ano e suas respectivas avaliações. A seguir, destacamos as principais conclusões extraídas dos dados:\n",
        "\n",
        "##Comparação das Avaliações dos Filmes do Adam Sandler com a média geral da Netflix:\n",
        "\n",
        "###Os filmes de Adam Sandler exibem uma ampla gama de avaliações, o que reflete a diversidade de suas produções, que vão desde comédias mais leves até obras mais profundas e dramáticas. A análise revelou que, em média, suas avaliações variam em relação à média geral dos filmes na Netflix. Essa variação pode ser atribuída ao estilo singular e, muitas vezes, polarizador de Sandler, que conquista tanto fãs fiéis quanto críticos mais exigentes.\n",
        "\n",
        "###Um dos maiores desafios encontrados foi a conversão das avaliações em um formato padronizado. Muitos filmes possuem classificações textuais, como \"G\" ou \"PG\", o que exigiu um mapeamento para valores numéricos, assegurando que os dados fossem consistentes para a análise estatística. Esse processo foi essencial para garantir a precisão e confiabilidade dos resultados obtidos.\n",
        "\n",
        "##Considerações Finais:\n",
        "\n",
        "###A análise dos filmes de Adam Sandler na Netflix oferece uma perspectiva valiosa sobre como o trabalho de um artista pode ser percebido e avaliado ao longo do tempo. Embora tenha sido observada uma correlação modesta entre o número de lançamentos e as avaliações, isso destaca a complexidade de se medir o sucesso e a recepção de um filme, que depende de muitos fatores, além da quantidade de produções.\n",
        "\n",
        "###A variação nas avaliações dos filmes de Adam Sandler ao longo dos anos pode estar ligada às mudanças nas expectativas do público e nas tendências de entretenimento, que evoluem com o tempo. Filmes que antes tinham grande aceitação podem não ressoar da mesma forma com as audiências atuais.\n",
        "\n",
        "\n",
        "##Perspectivas Futuras:\n",
        "\n",
        "###Para futuras análises, seria interessante explorar outros fatores que influenciam diretamente as avaliações, como a equipe de produção, o orçamento envolvido, e as estratégias de marketing utilizadas. Esses elementos podem ajudar a entender melhor o que contribui para o sucesso ou a crítica das produções de Adam Sandler em plataformas como a Netflix. Além disso, seria relevante investigar como esses fatores interagem com o apelo do ator e suas escolhas de papéis, oferecendo uma visão ainda mais abrangente sobre o impacto de sua carreira no cinema.\n"
      ],
      "metadata": {
        "id": "otJtrMIiuVaB"
      }
    },
    {
      "cell_type": "markdown",
      "source": [
        "## Fonte de Dados: Netflix - Kaggle: https://www.kaggle.com/datasets/shivamb/netflix-shows"
      ],
      "metadata": {
        "id": "hvzUrW9LeOAd"
      }
    }
  ]
}